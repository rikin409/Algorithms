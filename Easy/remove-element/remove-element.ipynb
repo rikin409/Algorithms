{
 "cells": [
  {
   "cell_type": "markdown",
   "id": "80f29ceb-abb2-4a33-b7ba-89718788d850",
   "metadata": {},
   "source": [
    "## Lessons:\n",
    "\n",
    "- When popping a number from array, we dont need to go to next index for the next iteration of loop"
   ]
  },
  {
   "cell_type": "code",
   "execution_count": 6,
   "id": "f2418021-c992-40c3-bc26-1d5bd5f5f3a4",
   "metadata": {},
   "outputs": [],
   "source": [
    "def removeElement(nums, val):\n",
    "\n",
    "    i=0\n",
    "    while i < len(nums):\n",
    "        if nums[i]==val:\n",
    "            nums.pop(i)\n",
    "        else:\n",
    "            i = i+1\n",
    "\n",
    "\n",
    "    return len(nums)"
   ]
  },
  {
   "cell_type": "code",
   "execution_count": null,
   "id": "ac7f3eff-b07b-4e1e-944a-a9a03ce4b69f",
   "metadata": {},
   "outputs": [],
   "source": []
  },
  {
   "cell_type": "code",
   "execution_count": null,
   "id": "160a5144-95e9-4536-ab2a-3aba1f1c1880",
   "metadata": {},
   "outputs": [],
   "source": []
  }
 ],
 "metadata": {
  "kernelspec": {
   "display_name": "Python 3",
   "language": "python",
   "name": "python3"
  },
  "language_info": {
   "codemirror_mode": {
    "name": "ipython",
    "version": 3
   },
   "file_extension": ".py",
   "mimetype": "text/x-python",
   "name": "python",
   "nbconvert_exporter": "python",
   "pygments_lexer": "ipython3",
   "version": "3.6.13"
  }
 },
 "nbformat": 4,
 "nbformat_minor": 5
}
