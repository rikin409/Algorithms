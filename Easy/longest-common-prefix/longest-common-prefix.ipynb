{
 "cells": [
  {
   "cell_type": "markdown",
   "metadata": {},
   "source": [
    "## Lessons:\n",
    "\n",
    "- List Comprehension : [len(strs[x]) for x in range(len(strs))] will take an array of strings (strs) and make an array of th elengths of those strings\n",
    "- Next statement in For loop"
   ]
  },
  {
   "cell_type": "code",
   "execution_count": 35,
   "metadata": {},
   "outputs": [],
   "source": [
    "def longestCommonPrefix(strs):\n",
    "    minLen = min([len(strs[x]) for x in range(len(strs))])\n",
    "    print(minLen)\n",
    "    prefix = \"\"\n",
    "    for i in range(minLen):\n",
    "        char = strs[0][i]\n",
    "        for j in range(1, len(strs)):\n",
    "            print(f\"Checking if strs[{j}][{i}] : {strs[j][i]}      is equal to {char}\")\n",
    "            if(strs[j][i]==char):\n",
    "                next\n",
    "            else:\n",
    "                return prefix\n",
    "        prefix = prefix + char\n",
    "    return prefix\n"
   ]
  },
  {
   "cell_type": "code",
   "execution_count": 36,
   "metadata": {},
   "outputs": [
    {
     "name": "stdout",
     "output_type": "stream",
     "text": [
      "5\n",
      "Checking if strs[1][0] : r      is equal to r\n",
      "Checking if strs[2][0] : r      is equal to r\n",
      "Checking if strs[3][0] : r      is equal to r\n",
      "Checking if strs[1][1] : i      is equal to i\n",
      "Checking if strs[2][1] : i      is equal to i\n",
      "Checking if strs[3][1] : i      is equal to i\n",
      "Checking if strs[1][2] : k      is equal to k\n",
      "Checking if strs[2][2] : k      is equal to k\n",
      "Checking if strs[3][2] : k      is equal to k\n",
      "Checking if strs[1][3] : i      is equal to i\n",
      "Checking if strs[2][3] : i      is equal to i\n",
      "Checking if strs[3][3] : i      is equal to i\n",
      "Checking if strs[1][4] : n      is equal to n\n",
      "Checking if strs[2][4] : n      is equal to n\n",
      "Checking if strs[3][4] : n      is equal to n\n"
     ]
    },
    {
     "data": {
      "text/plain": [
       "'rikin'"
      ]
     },
     "execution_count": 36,
     "metadata": {},
     "output_type": "execute_result"
    }
   ],
   "source": [
    "longestCommonPrefix([\"rikintdyjds\", \"rikin\", \"rikinfeaq\", \"rikinoperwpoe\"])"
   ]
  }
 ],
 "metadata": {
  "interpreter": {
   "hash": "94295bd324d7eadaed92d3d385920d31467041f4d5d7e4262a995f5f8226dcf6"
  },
  "kernelspec": {
   "display_name": "Python 3",
   "language": "python",
   "name": "python3"
  },
  "language_info": {
   "codemirror_mode": {
    "name": "ipython",
    "version": 3
   },
   "file_extension": ".py",
   "mimetype": "text/x-python",
   "name": "python",
   "nbconvert_exporter": "python",
   "pygments_lexer": "ipython3",
   "version": "3.8.8"
  }
 },
 "nbformat": 4,
 "nbformat_minor": 4
}
