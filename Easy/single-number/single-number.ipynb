{
 "cells": [
  {
   "cell_type": "code",
   "execution_count": 42,
   "id": "6ede1a97-4dfa-4c2d-879b-2b696a84b46a",
   "metadata": {},
   "outputs": [],
   "source": [
    "def singleNumber(nums):\n",
    "        \"\"\"\n",
    "        :type nums: List[int]\n",
    "        :rtype: int\n",
    "        \"\"\"\n",
    "        lookup = set()\n",
    "        \n",
    "        for num in nums:\n",
    "            if num in lookup:\n",
    "                lookup.discard(num)\n",
    "            else:\n",
    "                lookup.add(num)\n",
    "        return lookup.pop()\n",
    "            "
   ]
  },
  {
   "cell_type": "code",
   "execution_count": 43,
   "id": "3cdbf5c2-f456-4bfb-8eee-d416d6f46010",
   "metadata": {},
   "outputs": [
    {
     "data": {
      "text/plain": [
       "3"
      ]
     },
     "execution_count": 43,
     "metadata": {},
     "output_type": "execute_result"
    }
   ],
   "source": [
    "singleNumber([1,1,4,3,4])"
   ]
  },
  {
   "cell_type": "code",
   "execution_count": null,
   "id": "1654b24e-3ec3-491a-be87-679b05013fe6",
   "metadata": {},
   "outputs": [],
   "source": []
  }
 ],
 "metadata": {
  "kernelspec": {
   "display_name": "Python 3",
   "language": "python",
   "name": "python3"
  },
  "language_info": {
   "codemirror_mode": {
    "name": "ipython",
    "version": 3
   },
   "file_extension": ".py",
   "mimetype": "text/x-python",
   "name": "python",
   "nbconvert_exporter": "python",
   "pygments_lexer": "ipython3",
   "version": "3.8.8"
  }
 },
 "nbformat": 4,
 "nbformat_minor": 5
}
