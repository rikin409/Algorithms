{
 "cells": [
  {
   "cell_type": "markdown",
   "id": "b77ac2ca-3482-484c-ac39-5f67ba2a8563",
   "metadata": {},
   "source": [
    "# Lessons:\n"
   ]
  },
  {
   "cell_type": "code",
   "execution_count": 19,
   "id": "695155c1-4bd4-4832-b0f1-54541204c875",
   "metadata": {},
   "outputs": [],
   "source": [
    "def maxProfit(prices):\n",
    "    # Best buying point is the lowest point as long as there is a sell opportunity available after? NO [2,4,5,9,1,3] . We only want to explore another buying opportunity if the price goes below our current price (intially 2)\n",
    "    buy_index = 0\n",
    "    i = 0\n",
    "    j=1\n",
    "    max_profit = 0\n",
    "    while j<len(prices):\n",
    "        if prices[j]>prices[i]:\n",
    "            print(f\"Trade is profitibale between {i} and {j} - Profit = ${prices[j]-prices[i]}\")\n",
    "            max_profit = max(max_profit, prices[j]-prices[i])\n",
    "        else:\n",
    "            i = j\n",
    "        j = j+1\n",
    "    \n",
    "    print(max_profit)\n",
    "        "
   ]
  },
  {
   "cell_type": "code",
   "execution_count": 20,
   "id": "b2577af4-dc2a-4378-8baa-60214f891f43",
   "metadata": {},
   "outputs": [
    {
     "name": "stdout",
     "output_type": "stream",
     "text": [
      "Trade is profitibale between 0 and 1 - Profit = $2\n",
      "Trade is profitibale between 0 and 2 - Profit = $3\n",
      "Trade is profitibale between 0 and 3 - Profit = $7\n",
      "Trade is profitibale between 4 and 5 - Profit = $2\n",
      "7\n"
     ]
    }
   ],
   "source": [
    "maxProfit([2,4,5,9,1,3])"
   ]
  },
  {
   "cell_type": "markdown",
   "id": "8662fadc-15a3-4c61-a5f3-a24ce6c3f8d1",
   "metadata": {},
   "source": []
  }
 ],
 "metadata": {
  "kernelspec": {
   "display_name": "Python 3",
   "language": "python",
   "name": "python3"
  },
  "language_info": {
   "codemirror_mode": {
    "name": "ipython",
    "version": 3
   },
   "file_extension": ".py",
   "mimetype": "text/x-python",
   "name": "python",
   "nbconvert_exporter": "python",
   "pygments_lexer": "ipython3",
   "version": "3.8.8"
  }
 },
 "nbformat": 4,
 "nbformat_minor": 5
}
