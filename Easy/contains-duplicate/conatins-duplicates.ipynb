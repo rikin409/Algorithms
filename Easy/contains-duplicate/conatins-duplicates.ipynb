{
 "cells": [
  {
   "cell_type": "markdown",
   "id": "502c7afa-c34b-407b-9bbb-9672fe371894",
   "metadata": {},
   "source": [
    "## Lessons:\n",
    "\n",
    "- Use of indexing in for loops"
   ]
  },
  {
   "cell_type": "code",
   "execution_count": 1,
   "id": "13e5cdc9-2dd1-45e2-b348-322128d7f322",
   "metadata": {},
   "outputs": [],
   "source": [
    "def strStr(haystack, needle):\n",
    "    if len(needle)==0:\n",
    "            return 0\n",
    "    \n",
    "    \n",
    "    if needle in haystack:\n",
    "        return haystack.find(needle)\n",
    "            \n",
    "    return -1"
   ]
  },
  {
   "cell_type": "code",
   "execution_count": 2,
   "id": "6b5d47b0-38ba-4fa3-b866-3909d070b013",
   "metadata": {},
   "outputs": [
    {
     "data": {
      "text/plain": [
       "-1"
      ]
     },
     "execution_count": 2,
     "metadata": {},
     "output_type": "execute_result"
    }
   ],
   "source": [
    "strStr(\"\", \"a\")"
   ]
  },
  {
   "cell_type": "code",
   "execution_count": null,
   "id": "4bd9a95b-93b4-4d55-b0ef-06ee862cc7ec",
   "metadata": {},
   "outputs": [],
   "source": []
  },
  {
   "cell_type": "code",
   "execution_count": null,
   "id": "92cad47b-3f36-4e90-aa49-ce74f5cca864",
   "metadata": {},
   "outputs": [],
   "source": []
  }
 ],
 "metadata": {
  "kernelspec": {
   "display_name": "Python 3",
   "language": "python",
   "name": "python3"
  },
  "language_info": {
   "codemirror_mode": {
    "name": "ipython",
    "version": 3
   },
   "file_extension": ".py",
   "mimetype": "text/x-python",
   "name": "python",
   "nbconvert_exporter": "python",
   "pygments_lexer": "ipython3",
   "version": "3.6.13"
  }
 },
 "nbformat": 4,
 "nbformat_minor": 5
}
