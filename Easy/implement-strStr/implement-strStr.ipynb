{
 "cells": [
  {
   "cell_type": "markdown",
   "id": "502c7afa-c34b-407b-9bbb-9672fe371894",
   "metadata": {},
   "source": [
    "## Lessons:\n",
    "\n",
    "- Use of indexing in for loops"
   ]
  },
  {
   "cell_type": "code",
   "execution_count": 49,
   "id": "13e5cdc9-2dd1-45e2-b348-322128d7f322",
   "metadata": {},
   "outputs": [],
   "source": [
    "def strStr(haystack, needle):\n",
    "    if len(haystack)==0:\n",
    "        return 0\n",
    "    \n",
    "    \n",
    "    for n in range(len(haystack)-len(needle)+1):\n",
    "        i = 0\n",
    "        print(f\"haystack[n] = {haystack[n]}\")\n",
    "\n",
    "        while (haystack[n+i]==needle[i] and i<len(needle)):\n",
    "            print(f\"i : {i}, haystack[n+i] is : {haystack[n+i]}\")\n",
    "            i=i+1\n",
    "            if i ==len(needle):\n",
    "                return n\n",
    "    return -1"
   ]
  },
  {
   "cell_type": "code",
   "execution_count": 53,
   "id": "6b5d47b0-38ba-4fa3-b866-3909d070b013",
   "metadata": {},
   "outputs": [
    {
     "name": "stdout",
     "output_type": "stream",
     "text": [
      "haystack[n] = l\n",
      "i : 0, haystack[n+i] is : l\n",
      "i : 1, haystack[n+i] is : l\n",
      "i : 2, haystack[n+i] is : o\n",
      "i : 3, haystack[n+i] is : w\n"
     ]
    },
    {
     "data": {
      "text/plain": [
       "0"
      ]
     },
     "execution_count": 53,
     "metadata": {},
     "output_type": "execute_result"
    }
   ],
   "source": [
    "strStr(\"llowhellwwllow\", \"llow\")"
   ]
  },
  {
   "cell_type": "code",
   "execution_count": null,
   "id": "4bd9a95b-93b4-4d55-b0ef-06ee862cc7ec",
   "metadata": {},
   "outputs": [],
   "source": []
  },
  {
   "cell_type": "code",
   "execution_count": null,
   "id": "92cad47b-3f36-4e90-aa49-ce74f5cca864",
   "metadata": {},
   "outputs": [],
   "source": []
  }
 ],
 "metadata": {
  "kernelspec": {
   "display_name": "Python 3",
   "language": "python",
   "name": "python3"
  },
  "language_info": {
   "codemirror_mode": {
    "name": "ipython",
    "version": 3
   },
   "file_extension": ".py",
   "mimetype": "text/x-python",
   "name": "python",
   "nbconvert_exporter": "python",
   "pygments_lexer": "ipython3",
   "version": "3.6.13"
  }
 },
 "nbformat": 4,
 "nbformat_minor": 5
}
