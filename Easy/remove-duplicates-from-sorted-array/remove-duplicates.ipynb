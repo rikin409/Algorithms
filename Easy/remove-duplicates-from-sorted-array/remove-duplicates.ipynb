{
 "cells": [
  {
   "cell_type": "markdown",
   "id": "96558217-6765-430a-a617-77ad67b5fe16",
   "metadata": {},
   "source": [
    "## Lessons:\n",
    "\n",
    "- while loop versus for loop"
   ]
  },
  {
   "cell_type": "code",
   "execution_count": 11,
   "id": "006dbe55-1262-4e3c-9544-d9ec880f6639",
   "metadata": {},
   "outputs": [],
   "source": [
    "def removeDuplicates(nums):\n",
    "    i=0\n",
    "    while i < len(nums)-1:\n",
    "        if nums[i]==nums[i+1]:\n",
    "            nums.pop(i)\n",
    "        else:\n",
    "            i=i+1\n",
    "    return nums"
   ]
  },
  {
   "cell_type": "code",
   "execution_count": 12,
   "id": "c1c6d1ee-6d69-4d33-8fa0-0a968152076c",
   "metadata": {},
   "outputs": [
    {
     "data": {
      "text/plain": [
       "[1, 2, 3, 4, 5]"
      ]
     },
     "execution_count": 12,
     "metadata": {},
     "output_type": "execute_result"
    }
   ],
   "source": [
    "removeDuplicates([1,1,1,2,3,4,4,5,5,5])"
   ]
  },
  {
   "cell_type": "code",
   "execution_count": null,
   "id": "def5f7da-5b01-41bf-9b4d-979e3b7cd9ba",
   "metadata": {},
   "outputs": [],
   "source": []
  }
 ],
 "metadata": {
  "kernelspec": {
   "display_name": "Python 3",
   "language": "python",
   "name": "python3"
  },
  "language_info": {
   "codemirror_mode": {
    "name": "ipython",
    "version": 3
   },
   "file_extension": ".py",
   "mimetype": "text/x-python",
   "name": "python",
   "nbconvert_exporter": "python",
   "pygments_lexer": "ipython3",
   "version": "3.8.8"
  }
 },
 "nbformat": 4,
 "nbformat_minor": 5
}
