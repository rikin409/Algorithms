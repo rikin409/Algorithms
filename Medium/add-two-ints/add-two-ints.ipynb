{
 "cells": [
  {
   "cell_type": "code",
   "execution_count": 1,
   "id": "8c2230d3-43a1-420c-a76e-0cf621ed6976",
   "metadata": {},
   "outputs": [],
   "source": [
    "class ListNode(object):\n",
    "    def __init__(self, val=0, next=None):\n",
    "        self.val = val\n",
    "        self.next = next"
   ]
  },
  {
   "cell_type": "code",
   "execution_count": 113,
   "id": "b26201f5-4d67-4c2e-a13f-4d6fbcfcd727",
   "metadata": {},
   "outputs": [],
   "source": [
    "class Solution(object):\n",
    "    def addTwoNumbers(self, l1, l2):\n",
    "        \"\"\"\n",
    "        :type l1: ListNode\n",
    "        :type l2: ListNode\n",
    "        :rtype: ListNode\n",
    "        \"\"\"\n",
    "        head = ListNode()\n",
    "        pointer = head\n",
    "        \n",
    "        carry = 0\n",
    "        while l1!=None and l2!=None:\n",
    "            pointer.next = ListNode((l1.val+l2.val+carry)%10)\n",
    "            carry = (l1.val+l2.val+carry)//10\n",
    "            l1 = l1.next\n",
    "            l2 = l2.next\n",
    "            pointer = pointer.next\n",
    "        \n",
    "        while l1 != None:\n",
    "            pointer.next = ListNode((l1.val+carry)%10)\n",
    "            carry = (l1.val+carry)//10\n",
    "            l1 = l1.next\n",
    "            pointer = pointer.next\n",
    "            \n",
    "        while l2 != None:\n",
    "            pointer.next = ListNode((l2.val+carry)%10)\n",
    "            carry = (l2.val+carry)//10\n",
    "            l2 = l2.next\n",
    "            pointer = pointer.next\n",
    "        \n",
    "        if carry !=0:\n",
    "            pointer.next = ListNode((carry))\n",
    "\n",
    "        \n",
    "        return head.next\n",
    "        "
   ]
  },
  {
   "cell_type": "code",
   "execution_count": 114,
   "id": "af0c3f23-7eaa-44fa-84e4-29993f3bbb80",
   "metadata": {},
   "outputs": [],
   "source": [
    "list1 = ListNode(9, ListNode(9, ListNode(9)))\n",
    "list2 = ListNode(9, ListNode(9))"
   ]
  },
  {
   "cell_type": "code",
   "execution_count": 115,
   "id": "cf9e5428-c420-4f3b-ae3a-52a1c2c846dc",
   "metadata": {},
   "outputs": [],
   "source": [
    "s = Solution()"
   ]
  },
  {
   "cell_type": "code",
   "execution_count": 116,
   "id": "41c8b3af-a0e9-4fce-b564-1e84e8ae84c2",
   "metadata": {},
   "outputs": [],
   "source": [
    "x = s.addTwoNumbers(list1, list2)"
   ]
  },
  {
   "cell_type": "code",
   "execution_count": 117,
   "id": "88c15f88-0781-4696-9006-4fa0d758c739",
   "metadata": {},
   "outputs": [
    {
     "data": {
      "text/plain": [
       "8"
      ]
     },
     "execution_count": 117,
     "metadata": {},
     "output_type": "execute_result"
    }
   ],
   "source": [
    "x.val"
   ]
  },
  {
   "cell_type": "code",
   "execution_count": 118,
   "id": "a111cde0-1829-4d67-b207-c34ab9c0eef9",
   "metadata": {},
   "outputs": [
    {
     "data": {
      "text/plain": [
       "9"
      ]
     },
     "execution_count": 118,
     "metadata": {},
     "output_type": "execute_result"
    }
   ],
   "source": [
    "x.next.val"
   ]
  },
  {
   "cell_type": "code",
   "execution_count": 119,
   "id": "fb0aff38-45f8-4470-999e-a9b950b28e35",
   "metadata": {},
   "outputs": [
    {
     "data": {
      "text/plain": [
       "0"
      ]
     },
     "execution_count": 119,
     "metadata": {},
     "output_type": "execute_result"
    }
   ],
   "source": [
    "x.next.next.val"
   ]
  },
  {
   "cell_type": "code",
   "execution_count": 120,
   "id": "de702320-ebcd-4dcf-a82d-58169c88d575",
   "metadata": {},
   "outputs": [
    {
     "data": {
      "text/plain": [
       "1"
      ]
     },
     "execution_count": 120,
     "metadata": {},
     "output_type": "execute_result"
    }
   ],
   "source": [
    "x.next.next.next.val"
   ]
  },
  {
   "cell_type": "code",
   "execution_count": null,
   "id": "809b5478-8111-43ff-909a-959ec7ecbe93",
   "metadata": {},
   "outputs": [],
   "source": []
  },
  {
   "cell_type": "code",
   "execution_count": null,
   "id": "a37f9c6e-fb30-4f86-b708-1f5c6afc3731",
   "metadata": {},
   "outputs": [],
   "source": []
  },
  {
   "cell_type": "code",
   "execution_count": null,
   "id": "cde2b544-4e36-49ad-ba18-b7a25d9f2c18",
   "metadata": {},
   "outputs": [],
   "source": []
  },
  {
   "cell_type": "code",
   "execution_count": null,
   "id": "4d800b15-9dff-434a-bcf0-8ad55405d53f",
   "metadata": {},
   "outputs": [],
   "source": []
  }
 ],
 "metadata": {
  "kernelspec": {
   "display_name": "Python 3",
   "language": "python",
   "name": "python3"
  },
  "language_info": {
   "codemirror_mode": {
    "name": "ipython",
    "version": 3
   },
   "file_extension": ".py",
   "mimetype": "text/x-python",
   "name": "python",
   "nbconvert_exporter": "python",
   "pygments_lexer": "ipython3",
   "version": "3.6.13"
  }
 },
 "nbformat": 4,
 "nbformat_minor": 5
}
