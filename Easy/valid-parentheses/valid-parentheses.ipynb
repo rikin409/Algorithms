{
 "cells": [
  {
   "cell_type": "markdown",
   "metadata": {},
   "source": [
    "## Lessons:\n",
    "\n",
    "- Popping from array to simulate a Stack"
   ]
  },
  {
   "cell_type": "code",
   "execution_count": 12,
   "metadata": {},
   "outputs": [],
   "source": [
    "def isValid(str):\n",
    "    if len(str)%2 != 0:\n",
    "        return False\n",
    "    inverse_dict = {\"{\":\"}\", \"(\":\")\", \"[\":\"]\"}\n",
    "    chars = []\n",
    "\n",
    "    for i in range(len(str)//2):\n",
    "        chars.append(str[i])\n",
    "    for j in range(len(str)//2, len(str)):\n",
    "        if(inverse_dict[chars.pop(-1)] != str[j]):\n",
    "            return False\n",
    "    return True\n"
   ]
  },
  {
   "cell_type": "code",
   "execution_count": 16,
   "metadata": {},
   "outputs": [
    {
     "data": {
      "text/plain": [
       "True"
      ]
     },
     "execution_count": 16,
     "metadata": {},
     "output_type": "execute_result"
    }
   ],
   "source": [
    "isValid(\"{[]}\")"
   ]
  },
  {
   "cell_type": "code",
   "execution_count": 29,
   "metadata": {},
   "outputs": [],
   "source": [
    "def isValid(str):\n",
    "    if len(str)%2 != 0:\n",
    "        return False\n",
    "    inverse_dict = {\"{\":\"}\", \"(\":\")\", \"[\":\"]\"}\n",
    "\n",
    "    for i in range(len(str)//2):\n",
    "        if((str[i] not in inverse_dict) or (inverse_dict[str[i]] != str[-1-i])):\n",
    "            return False\n",
    "    return True"
   ]
  },
  {
   "cell_type": "code",
   "execution_count": 37,
   "metadata": {},
   "outputs": [
    {
     "data": {
      "text/plain": [
       "True"
      ]
     },
     "execution_count": 37,
     "metadata": {},
     "output_type": "execute_result"
    }
   ],
   "source": [
    "isValid(\"{()}\")"
   ]
  },
  {
   "cell_type": "code",
   "execution_count": null,
   "metadata": {},
   "outputs": [],
   "source": []
  }
 ],
 "metadata": {
  "interpreter": {
   "hash": "94295bd324d7eadaed92d3d385920d31467041f4d5d7e4262a995f5f8226dcf6"
  },
  "kernelspec": {
   "display_name": "Python 3.6.13 64-bit ('config': conda)",
   "language": "python",
   "name": "python3"
  },
  "language_info": {
   "codemirror_mode": {
    "name": "ipython",
    "version": 3
   },
   "file_extension": ".py",
   "mimetype": "text/x-python",
   "name": "python",
   "nbconvert_exporter": "python",
   "pygments_lexer": "ipython3",
   "version": "3.6.13"
  },
  "orig_nbformat": 4
 },
 "nbformat": 4,
 "nbformat_minor": 2
}
