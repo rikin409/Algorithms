{
 "cells": [
  {
   "cell_type": "markdown",
   "metadata": {},
   "source": [
    "Determine if an integer is a palindrome\n",
    "\n",
    "### Takeaways\n",
    "\n",
    "- Using % and / to reverse an integer, and mess with digits"
   ]
  },
  {
   "cell_type": "code",
   "execution_count": 73,
   "metadata": {},
   "outputs": [],
   "source": [
    "def palindromeString(x):\n",
    "    x  = str(x)\n",
    "    for i in range(len(x)//2):\n",
    "        last = -1-i\n",
    "        print(f\"Checking {x[i]} with {x[last]}\")\n",
    "        if(x[i]!=x[last]):\n",
    "            return False\n",
    "    return True\n"
   ]
  },
  {
   "cell_type": "code",
   "execution_count": 74,
   "metadata": {},
   "outputs": [],
   "source": [
    "def palindrome(x):\n",
    "    n=x\n",
    "    rev = 0\n",
    "    while n>0:\n",
    "        digit = n%10\n",
    "        rev = (rev*10)+digit\n",
    "        n=n//10\n",
    "    if(rev==x):\n",
    "        return True\n",
    "    else:\n",
    "        return False"
   ]
  },
  {
   "cell_type": "code",
   "execution_count": null,
   "metadata": {},
   "outputs": [],
   "source": []
  }
 ],
 "metadata": {
  "interpreter": {
   "hash": "eb23a5fc267a8d6ac1af28c54138cd2e3f95f471e5c9d4fa47e853610ca0a1b5"
  },
  "kernelspec": {
   "display_name": "Python 3.8.8 64-bit ('base': conda)",
   "language": "python",
   "name": "python3"
  },
  "language_info": {
   "codemirror_mode": {
    "name": "ipython",
    "version": 3
   },
   "file_extension": ".py",
   "mimetype": "text/x-python",
   "name": "python",
   "nbconvert_exporter": "python",
   "pygments_lexer": "ipython3",
   "version": "3.6.13"
  },
  "orig_nbformat": 4
 },
 "nbformat": 4,
 "nbformat_minor": 2
}
