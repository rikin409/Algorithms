{
 "cells": [
  {
   "cell_type": "markdown",
   "metadata": {},
   "source": [
    "## Lessons:\n",
    "\n",
    "- Just interesting use of dicts and logic"
   ]
  },
  {
   "cell_type": "code",
   "execution_count": 4,
   "metadata": {},
   "outputs": [],
   "source": [
    "def romanToInt(s):\n",
    "\n",
    "    char_dict = {\"M\": 1000, \"D\": 500, \"C\": 100, \"L\": 50, \"X\": 10, \"V\": 5, \"I\":1}\n",
    "        \n",
    "    diff_dict = {\"IV\": 1, \"IX\": 1, \"XL\": 10, \"XC\": 10, \"CD\": 100, \"CM\": 100}\n",
    "\n",
    "    answer = 0\n",
    "\n",
    "    for char in s:\n",
    "        answer = answer+char_dict[char]\n",
    "    \n",
    "    for i in range(len(s)-1):\n",
    "        x = s[i] + s[i+1]\n",
    "        if x in diff_dict:\n",
    "            answer = answer-2*diff_dict[x]\n",
    "    print(answer)\n"
   ]
  },
  {
   "cell_type": "code",
   "execution_count": 10,
   "metadata": {},
   "outputs": [
    {
     "name": "stdout",
     "output_type": "stream",
     "text": [
      "909\n"
     ]
    }
   ],
   "source": [
    "romanToInt(\"CMIX\")"
   ]
  }
 ],
 "metadata": {
  "interpreter": {
   "hash": "94295bd324d7eadaed92d3d385920d31467041f4d5d7e4262a995f5f8226dcf6"
  },
  "kernelspec": {
   "display_name": "Python 3.6.13 64-bit ('config': conda)",
   "language": "python",
   "name": "python3"
  },
  "language_info": {
   "codemirror_mode": {
    "name": "ipython",
    "version": 3
   },
   "file_extension": ".py",
   "mimetype": "text/x-python",
   "name": "python",
   "nbconvert_exporter": "python",
   "pygments_lexer": "ipython3",
   "version": "3.6.13"
  },
  "orig_nbformat": 4
 },
 "nbformat": 4,
 "nbformat_minor": 2
}
