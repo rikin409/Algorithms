{
 "cells": [
  {
   "cell_type": "markdown",
   "id": "0e35c7bd-1a95-42c5-a499-f8859f862f4c",
   "metadata": {},
   "source": [
    "## Lessons:\n",
    "\n",
    "- The use of sets to keep track of seen elements\n",
    "- Breaking a for loop\n",
    "- More efficient solution invloves using windows"
   ]
  },
  {
   "cell_type": "code",
   "execution_count": 9,
   "id": "00f41fd0-c6dd-4b32-b58c-cd81e1ebadb9",
   "metadata": {},
   "outputs": [],
   "source": [
    "def lengthOfLongestSubstring(s):\n",
    "    x = 0\n",
    "    for i in range(len(s)):\n",
    "        chars = set()\n",
    "        temp_max = 0\n",
    "        for j in range(i, len(s)):\n",
    "            if s[j] not in chars:\n",
    "                chars.add(s[j])\n",
    "            else:\n",
    "                break\n",
    "        x = max(x, len(chars))\n",
    "    return x\n",
    "            \n",
    "            "
   ]
  },
  {
   "cell_type": "code",
   "execution_count": 11,
   "id": "33677224-a7fb-4cbb-93f2-f1efdf65e764",
   "metadata": {},
   "outputs": [
    {
     "data": {
      "text/plain": [
       "3"
      ]
     },
     "execution_count": 11,
     "metadata": {},
     "output_type": "execute_result"
    }
   ],
   "source": [
    "lengthOfLongestSubstring(\"adaaseaaw\")"
   ]
  },
  {
   "cell_type": "code",
   "execution_count": 20,
   "id": "590eb633-1c62-4959-b230-e493672ca1f0",
   "metadata": {},
   "outputs": [],
   "source": [
    "def lengthOfLongestSubstring(s):\n",
    "    ans = 0\n",
    "    mp = {}\n",
    "    i = 0\n",
    "    \n",
    "    for j in range(len(s)):\n",
    "        if s[j] in mp:\n",
    "            i = max(mp[s[j]]+1, i)\n",
    "        \n",
    "        ans = max(ans, j-i+1)\n",
    "        mp[s[j]] = j\n",
    "    \n",
    "    return ans"
   ]
  },
  {
   "cell_type": "code",
   "execution_count": 22,
   "id": "15d50846-c27b-4a26-a7c1-55401aab921f",
   "metadata": {},
   "outputs": [
    {
     "data": {
      "text/plain": [
       "7"
      ]
     },
     "execution_count": 22,
     "metadata": {},
     "output_type": "execute_result"
    }
   ],
   "source": [
    "lengthOfLongestSubstring(\"abcdeafdbgcbb\")"
   ]
  },
  {
   "cell_type": "code",
   "execution_count": null,
   "id": "b5f39016-63ed-4692-81f6-7978a2f28385",
   "metadata": {},
   "outputs": [],
   "source": []
  }
 ],
 "metadata": {
  "kernelspec": {
   "display_name": "Python 3",
   "language": "python",
   "name": "python3"
  },
  "language_info": {
   "codemirror_mode": {
    "name": "ipython",
    "version": 3
   },
   "file_extension": ".py",
   "mimetype": "text/x-python",
   "name": "python",
   "nbconvert_exporter": "python",
   "pygments_lexer": "ipython3",
   "version": "3.6.13"
  }
 },
 "nbformat": 4,
 "nbformat_minor": 5
}
