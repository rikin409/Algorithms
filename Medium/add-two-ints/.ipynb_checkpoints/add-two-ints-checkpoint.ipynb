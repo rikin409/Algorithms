{
 "cells": [
  {
   "cell_type": "code",
   "execution_count": 1,
   "id": "8c2230d3-43a1-420c-a76e-0cf621ed6976",
   "metadata": {},
   "outputs": [],
   "source": [
    "class ListNode(object):\n",
    "    def __init__(self, val=0, next=None):\n",
    "        self.val = val\n",
    "        self.next = next"
   ]
  },
  {
   "cell_type": "code",
   "execution_count": 15,
   "id": "b26201f5-4d67-4c2e-a13f-4d6fbcfcd727",
   "metadata": {},
   "outputs": [
    {
     "ename": "IndentationError",
     "evalue": "expected an indented block (<ipython-input-15-8abfffc1683d>, line 26)",
     "output_type": "error",
     "traceback": [
      "\u001b[0;36m  File \u001b[0;32m\"<ipython-input-15-8abfffc1683d>\"\u001b[0;36m, line \u001b[0;32m26\u001b[0m\n\u001b[0;31m    pointer.next = ListNode((l2.val+carry)%10)\u001b[0m\n\u001b[0m          ^\u001b[0m\n\u001b[0;31mIndentationError\u001b[0m\u001b[0;31m:\u001b[0m expected an indented block\n"
     ]
    }
   ],
   "source": [
    "class Solution(object):\n",
    "    def addTwoNumbers(self, l1, l2):\n",
    "        \"\"\"\n",
    "        :type l1: ListNode\n",
    "        :type l2: ListNode\n",
    "        :rtype: ListNode\n",
    "        \"\"\"\n",
    "        head = ListNode()\n",
    "        pointer = head\n",
    "        \n",
    "        carry = 0\n",
    "        while l1!=None and l2!=None:\n",
    "            pointer.next = ListNode((l1.val+l2.val+carry)%10)\n",
    "            carry = (l1.val+l2.val+carry)//10\n",
    "            l1 = l1.next\n",
    "            l2 = l2.next\n",
    "            pointer = pointer.next\n",
    "        \n",
    "        while l1 != None:\n",
    "            pointer.next = ListNode((l1.val+carry)%10)\n",
    "            carry = (l1.val+carry)//10\n",
    "            l1 = l1.next\n",
    "            pointer = pointer.next\n",
    "            \n",
    "        while l2 != None:\n",
    "            pointer.next = ListNode((l2.val+carry)%10)\n",
    "            carry = (l2.val+carry)//10\n",
    "            l2 = l2.next\n",
    "            pointer = pointer.next\n",
    "        "
   ]
  },
  {
   "cell_type": "code",
   "execution_count": 13,
   "id": "af0c3f23-7eaa-44fa-84e4-29993f3bbb80",
   "metadata": {},
   "outputs": [],
   "source": [
    "list1 = ListNode(2, ListNode(4, ListNode(3)))\n",
    "list2 = ListNode(5, ListNode(6, ListNode(4)))"
   ]
  },
  {
   "cell_type": "code",
   "execution_count": 11,
   "id": "cf9e5428-c420-4f3b-ae3a-52a1c2c846dc",
   "metadata": {},
   "outputs": [
    {
     "name": "stdout",
     "output_type": "stream",
     "text": [
      "0\n"
     ]
    }
   ],
   "source": []
  },
  {
   "cell_type": "code",
   "execution_count": null,
   "id": "41c8b3af-a0e9-4fce-b564-1e84e8ae84c2",
   "metadata": {},
   "outputs": [],
   "source": []
  }
 ],
 "metadata": {
  "kernelspec": {
   "display_name": "Python 3",
   "language": "python",
   "name": "python3"
  },
  "language_info": {
   "codemirror_mode": {
    "name": "ipython",
    "version": 3
   },
   "file_extension": ".py",
   "mimetype": "text/x-python",
   "name": "python",
   "nbconvert_exporter": "python",
   "pygments_lexer": "ipython3",
   "version": "3.6.13"
  }
 },
 "nbformat": 4,
 "nbformat_minor": 5
}
