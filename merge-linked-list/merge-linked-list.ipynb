{
 "cells": [
  {
   "cell_type": "markdown",
   "id": "f246b64a-73c0-4d84-87c4-ff79122adf4e",
   "metadata": {},
   "source": [
    "## Lessons:\n",
    "\n",
    "- Linked Lists, how to use a pointer to manipulate objects and make linked lists"
   ]
  },
  {
   "cell_type": "code",
   "execution_count": 1,
   "id": "b804d8d1-2eef-4df1-8a1f-33dc413c479f",
   "metadata": {},
   "outputs": [],
   "source": [
    "class ListNode:\n",
    "    def __init__(self, val=0, next=None):\n",
    "        self.val = val\n",
    "        self.next = next"
   ]
  },
  {
   "cell_type": "code",
   "execution_count": 24,
   "id": "697eaa6c-005a-4ed2-ae53-2cd5122d338c",
   "metadata": {},
   "outputs": [],
   "source": [
    "class Solution(object):\n",
    "    def mergeTwoLists(self, list1, list2):\n",
    "        \"\"\"\n",
    "        :type list1: Optional[ListNode]\n",
    "        :type list2: Optional[ListNode]\n",
    "        :rtype: Optional[ListNode]\n",
    "        \"\"\"\n",
    "        head = ListNode()\n",
    "        pointer = head\n",
    "        \n",
    "        while list1!= None and list2!= None:\n",
    "            if list1.val<list2.val:\n",
    "                print(f\"list1.val is {list1.val} and list2.val is {list2.val}\")\n",
    "                pointer.next = list1\n",
    "                list1 = list1.next\n",
    "            else:\n",
    "                print(f\"list2.val is {list2.val} and list1.val is {list1.val}\")\n",
    "                pointer.next = list2\n",
    "                list2 = list2.next\n",
    "            pointer = pointer.next\n",
    "        \n",
    "        if list1!= None:\n",
    "            pointer.next = list1\n",
    "        if list2!= None:\n",
    "            pointer.next = list2\n",
    "        return head"
   ]
  },
  {
   "cell_type": "code",
   "execution_count": 36,
   "id": "5c5ca02b-7db7-4701-91d7-caf54a215208",
   "metadata": {},
   "outputs": [],
   "source": [
    "list1 = ListNode(1, ListNode(6))\n",
    "list2 = ListNode(2, ListNode(5, ListNode(243)))"
   ]
  },
  {
   "cell_type": "code",
   "execution_count": 37,
   "id": "f1f05481-ccf8-41b2-8faa-21919a8bc36e",
   "metadata": {},
   "outputs": [
    {
     "name": "stdout",
     "output_type": "stream",
     "text": [
      "list1.val is 1 and list2.val is 2\n",
      "list2.val is 2 and list1.val is 6\n",
      "list2.val is 5 and list1.val is 6\n",
      "list1.val is 6 and list2.val is 243\n"
     ]
    }
   ],
   "source": [
    "s = Solution()\n",
    "x = s.mergeTwoLists(list1, list2)"
   ]
  },
  {
   "cell_type": "code",
   "execution_count": 38,
   "id": "9cdb9874-1ee6-40d4-bd4d-3cd3cac90248",
   "metadata": {},
   "outputs": [
    {
     "data": {
      "text/plain": [
       "0"
      ]
     },
     "execution_count": 38,
     "metadata": {},
     "output_type": "execute_result"
    }
   ],
   "source": [
    "x.val"
   ]
  },
  {
   "cell_type": "code",
   "execution_count": 39,
   "id": "ac024a9f-fcc5-4441-95be-945adbe71a31",
   "metadata": {},
   "outputs": [
    {
     "data": {
      "text/plain": [
       "1"
      ]
     },
     "execution_count": 39,
     "metadata": {},
     "output_type": "execute_result"
    }
   ],
   "source": [
    "x.next.val"
   ]
  },
  {
   "cell_type": "code",
   "execution_count": 40,
   "id": "47669494-3032-4717-8eeb-77673023c909",
   "metadata": {},
   "outputs": [
    {
     "data": {
      "text/plain": [
       "2"
      ]
     },
     "execution_count": 40,
     "metadata": {},
     "output_type": "execute_result"
    }
   ],
   "source": [
    "x.next.next.val"
   ]
  },
  {
   "cell_type": "code",
   "execution_count": 41,
   "id": "35d53f05-b8c3-4291-b901-68b5ab1f51d4",
   "metadata": {},
   "outputs": [
    {
     "data": {
      "text/plain": [
       "5"
      ]
     },
     "execution_count": 41,
     "metadata": {},
     "output_type": "execute_result"
    }
   ],
   "source": [
    "x.next.next.next.val"
   ]
  },
  {
   "cell_type": "code",
   "execution_count": 42,
   "id": "9b4eb01b-d0df-4e2e-9705-61a4bb3db349",
   "metadata": {},
   "outputs": [
    {
     "data": {
      "text/plain": [
       "6"
      ]
     },
     "execution_count": 42,
     "metadata": {},
     "output_type": "execute_result"
    }
   ],
   "source": [
    "x.next.next.next.next.val"
   ]
  },
  {
   "cell_type": "code",
   "execution_count": 43,
   "id": "20567c06-f3fa-49e6-96bf-76db207fc828",
   "metadata": {},
   "outputs": [
    {
     "data": {
      "text/plain": [
       "243"
      ]
     },
     "execution_count": 43,
     "metadata": {},
     "output_type": "execute_result"
    }
   ],
   "source": [
    "x.next.next.next.next.next.val"
   ]
  },
  {
   "cell_type": "code",
   "execution_count": 46,
   "id": "1efdc67e-f442-4a25-b358-7a91181c44c3",
   "metadata": {},
   "outputs": [
    {
     "data": {
      "text/plain": [
       "<__main__.ListNode at 0x7fdbf0d3b9e8>"
      ]
     },
     "execution_count": 46,
     "metadata": {},
     "output_type": "execute_result"
    }
   ],
   "source": [
    "x.next.next.next.next.next"
   ]
  },
  {
   "cell_type": "code",
   "execution_count": null,
   "id": "7348fa21-e219-46ef-8fc7-011dd2463bba",
   "metadata": {},
   "outputs": [],
   "source": []
  }
 ],
 "metadata": {
  "kernelspec": {
   "display_name": "Python 3",
   "language": "python",
   "name": "python3"
  },
  "language_info": {
   "codemirror_mode": {
    "name": "ipython",
    "version": 3
   },
   "file_extension": ".py",
   "mimetype": "text/x-python",
   "name": "python",
   "nbconvert_exporter": "python",
   "pygments_lexer": "ipython3",
   "version": "3.6.13"
  }
 },
 "nbformat": 4,
 "nbformat_minor": 5
}
